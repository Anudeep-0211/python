{
 "cells": [
  {
   "cell_type": "code",
   "execution_count": 7,
   "id": "f53354a7",
   "metadata": {},
   "outputs": [
    {
     "name": "stdout",
     "output_type": "stream",
     "text": [
      "-1.0\n"
     ]
    }
   ],
   "source": [
    "b=10+2-3*6+ 10/2\n",
    "print(b)"
   ]
  },
  {
   "cell_type": "code",
   "execution_count": 9,
   "id": "f6fea5f2",
   "metadata": {},
   "outputs": [
    {
     "name": "stdout",
     "output_type": "stream",
     "text": [
      "39\n"
     ]
    }
   ],
   "source": [
    "a=(5+3/2)-15%7+7/2+3*10\n",
    "print(int(a))"
   ]
  },
  {
   "cell_type": "code",
   "execution_count": 3,
   "id": "2cffd3fd",
   "metadata": {},
   "outputs": [
    {
     "name": "stdout",
     "output_type": "stream",
     "text": [
      "120\n"
     ]
    }
   ],
   "source": [
    "a=10\n",
    "a*=12\n",
    "print(a)"
   ]
  },
  {
   "cell_type": "code",
   "execution_count": 5,
   "id": "ea61b822",
   "metadata": {},
   "outputs": [
    {
     "name": "stdout",
     "output_type": "stream",
     "text": [
      "4\n"
     ]
    }
   ],
   "source": [
    "a=12\n",
    "a/=3\n",
    "print(int(a))"
   ]
  },
  {
   "cell_type": "code",
   "execution_count": 9,
   "id": "f61e6170",
   "metadata": {},
   "outputs": [
    {
     "name": "stdout",
     "output_type": "stream",
     "text": [
      "a+b = 17\n",
      "a-b = -5\n",
      "a*b = 66\n",
      "a/b = 0.5454545454545454\n"
     ]
    }
   ],
   "source": [
    "a=6\n",
    "b=11\n",
    "print(\"a+b =\",a+b)\n",
    "print(\"a-b =\",a-b)\n",
    "print(\"a*b =\",a*b)\n",
    "print(\"a/b =\",a/b)"
   ]
  },
  {
   "cell_type": "code",
   "execution_count": 10,
   "id": "ba08a35a",
   "metadata": {},
   "outputs": [
    {
     "name": "stdout",
     "output_type": "stream",
     "text": [
      "<class 'str'>\n",
      "<class 'int'>\n"
     ]
    }
   ],
   "source": [
    "a=\"suharshitha\"\n",
    "b=11\n",
    "print(type(a))\n",
    "print(type(b))"
   ]
  },
  {
   "cell_type": "code",
   "execution_count": 4,
   "id": "33e0de5e",
   "metadata": {},
   "outputs": [
    {
     "name": "stdout",
     "output_type": "stream",
     "text": [
      "suharshitha\n",
      "gaddam\n"
     ]
    }
   ],
   "source": [
    "a='suharshitha\\n'\n",
    "b='gaddam'\n",
    "print(a+b)"
   ]
  },
  {
   "cell_type": "code",
   "execution_count": 18,
   "id": "103bfb0f",
   "metadata": {},
   "outputs": [
    {
     "name": "stdout",
     "output_type": "stream",
     "text": [
      "False\n",
      "True\n",
      "False\n"
     ]
    }
   ],
   "source": [
    "a=2\n",
    "b=3\n",
    "c=4\n",
    "print(a>=b and b<a)\n",
    "print(b<c or b>c)\n",
    "print(c<b)"
   ]
  },
  {
   "cell_type": "code",
   "execution_count": 21,
   "id": "865045b1",
   "metadata": {},
   "outputs": [
    {
     "name": "stdout",
     "output_type": "stream",
     "text": [
      "Enter OTP:110904\n",
      "Correct\n"
     ]
    }
   ],
   "source": [
    "otp=int(input(\"Enter OTP:\"))\n",
    "if otp==110904:\n",
    "    print(\"Correct\")\n",
    "else:\n",
    "    print(\"Not Correct\")"
   ]
  },
  {
   "cell_type": "markdown",
   "id": "fa5d86b6",
   "metadata": {},
   "source": [
    "##\n",
    "Day 3"
   ]
  },
  {
   "cell_type": "code",
   "execution_count": 13,
   "id": "22fbbc9d",
   "metadata": {},
   "outputs": [
    {
     "name": "stdout",
     "output_type": "stream",
     "text": [
      "m\n",
      "ach\n",
      "mac\n",
      "chine learning\n",
      "machine learnin\n",
      "n\n",
      "mhee\n",
      "ael enihca\n"
     ]
    }
   ],
   "source": [
    "a=\"machine learning\"\n",
    "print(a[0])\n",
    "print(a[1:4])\n",
    "print(a[:3])\n",
    "print(a[2:])\n",
    "print(a[:-1])\n",
    "print(a[-2])\n",
    "print(a[0:10:3])\n",
    "print(a[10:0:-1])"
   ]
  },
  {
   "cell_type": "code",
   "execution_count": 14,
   "id": "40b380f3",
   "metadata": {},
   "outputs": [
    {
     "data": {
      "text/plain": [
       "'gninrael enihcam'"
      ]
     },
     "execution_count": 14,
     "metadata": {},
     "output_type": "execute_result"
    }
   ],
   "source": [
    "a[::-1]"
   ]
  },
  {
   "cell_type": "code",
   "execution_count": 15,
   "id": "9662969b",
   "metadata": {},
   "outputs": [
    {
     "data": {
      "text/plain": [
       "'machine learningmachine learningmachine learningmachine learningmachine learningmachine learningmachine learningmachine learningmachine learningmachine learning'"
      ]
     },
     "execution_count": 15,
     "metadata": {},
     "output_type": "execute_result"
    }
   ],
   "source": [
    "a*10"
   ]
  },
  {
   "cell_type": "code",
   "execution_count": 18,
   "id": "5a0e5975",
   "metadata": {},
   "outputs": [
    {
     "name": "stdout",
     "output_type": "stream",
     "text": [
      "abhisri\n",
      "durgam\n"
     ]
    }
   ],
   "source": [
    "a='abhisri\\n'\n",
    "b='durgam'\n",
    "print(a+b)"
   ]
  },
  {
   "cell_type": "code",
   "execution_count": 20,
   "id": "1626ffcf",
   "metadata": {},
   "outputs": [
    {
     "data": {
      "text/plain": [
       "'LALLU'"
      ]
     },
     "execution_count": 20,
     "metadata": {},
     "output_type": "execute_result"
    }
   ],
   "source": [
    "a='lallu'\n",
    "a.upper()"
   ]
  },
  {
   "cell_type": "markdown",
   "id": "c625c20e",
   "metadata": {},
   "source": [
    "# 7-1-25\n"
   ]
  },
  {
   "cell_type": "code",
   "execution_count": 1,
   "id": "775673e3",
   "metadata": {},
   "outputs": [],
   "source": [
    "marvel_dict={'name':'thor','place':'asgard','weapon':'hammer','release_date':2019}"
   ]
  },
  {
   "cell_type": "code",
   "execution_count": 2,
   "id": "d4038c66",
   "metadata": {},
   "outputs": [
    {
     "name": "stdout",
     "output_type": "stream",
     "text": [
      "hammer\n"
     ]
    }
   ],
   "source": [
    "print(marvel_dict[\"weapon\"])"
   ]
  },
  {
   "cell_type": "code",
   "execution_count": 3,
   "id": "bdc5cd4b",
   "metadata": {},
   "outputs": [
    {
     "name": "stdout",
     "output_type": "stream",
     "text": [
      "2019\n"
     ]
    }
   ],
   "source": [
    "print(marvel_dict[\"release_date\"])"
   ]
  },
  {
   "cell_type": "code",
   "execution_count": 4,
   "id": "a3713174",
   "metadata": {},
   "outputs": [
    {
     "data": {
      "text/plain": [
       "{'name': 'thor', 'place': 'asgard', 'weapon': 'hammer', 'release_date': 2019}"
      ]
     },
     "execution_count": 4,
     "metadata": {},
     "output_type": "execute_result"
    }
   ],
   "source": [
    "marvel_dict"
   ]
  },
  {
   "cell_type": "code",
   "execution_count": null,
   "id": "3c825ac7",
   "metadata": {},
   "outputs": [],
   "source": []
  }
 ],
 "metadata": {
  "kernelspec": {
   "display_name": "Python 3 (ipykernel)",
   "language": "python",
   "name": "python3"
  },
  "language_info": {
   "codemirror_mode": {
    "name": "ipython",
    "version": 3
   },
   "file_extension": ".py",
   "mimetype": "text/x-python",
   "name": "python",
   "nbconvert_exporter": "python",
   "pygments_lexer": "ipython3",
   "version": "3.11.5"
  }
 },
 "nbformat": 4,
 "nbformat_minor": 5
}
